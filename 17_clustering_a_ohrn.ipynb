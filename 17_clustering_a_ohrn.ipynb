{
 "cells": [
  {
   "cell_type": "markdown",
   "id": "7e974e29",
   "metadata": {},
   "source": [
    "# See folder by the same name.\n",
    "\n",
    "From https://towardsdatascience.com/image-clustering-implementation-with-pytorch-587af1d14123\n",
    "    \n",
    "This is an implementation of DCNN clustering in PyTorch. The underlying approach is (Local Aggregation by Zhuang et al. from 2019). https://arxiv.org/abs/1903.12355\n",
    "\n",
    "Another reference is a list of \"many possible DCNN clusting techniques\" https://arxiv.org/abs/1801.07648\n",
    "\n"
   ]
  },
  {
   "cell_type": "code",
   "execution_count": null,
   "id": "b193a67f",
   "metadata": {},
   "outputs": [],
   "source": []
  }
 ],
 "metadata": {
  "kernelspec": {
   "display_name": "Python 3 (ipykernel)",
   "language": "python",
   "name": "python3"
  },
  "language_info": {
   "codemirror_mode": {
    "name": "ipython",
    "version": 3
   },
   "file_extension": ".py",
   "mimetype": "text/x-python",
   "name": "python",
   "nbconvert_exporter": "python",
   "pygments_lexer": "ipython3",
   "version": "3.9.12"
  }
 },
 "nbformat": 4,
 "nbformat_minor": 5
}
