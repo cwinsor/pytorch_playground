{
 "cells": [
  {
   "cell_type": "markdown",
   "id": "6b680b7d",
   "metadata": {},
   "source": [
    "# Deep Convolution Generative Adversarial Networks\n",
    "from:\n",
    "https://github.com/pytorch/examples/tree/main/dcgan\n",
    "\n",
    "link came from:\n",
    "https://pytorch.org/tutorials/beginner/blitz/cifar10_tutorial.html"
   ]
  },
  {
   "cell_type": "markdown",
   "id": "bcca0e31",
   "metadata": {},
   "source": [
    "This example implements the paper Unsupervised Representation Learning with Deep Convolutional Generative Adversarial Networks http://arxiv.org/abs/1511.06434\n",
    "\n",
    "The implementation is very close to the Torch implementation dcgan.torch\n",
    "\n",
    "After every 100 training iterations, the files real_samples.png and fake_samples.png are written to disk with the samples from the generative model.\n",
    "\n",
    "After every epoch, models are saved to: netG_epoch_%d.pth and netD_epoch_%d.pth"
   ]
  },
  {
   "cell_type": "markdown",
   "id": "9c3ccc36",
   "metadata": {},
   "source": [
    "# see folder \"08_gan_pytorch\""
   ]
  }
 ],
 "metadata": {
  "kernelspec": {
   "display_name": "Python 3 (ipykernel)",
   "language": "python",
   "name": "python3"
  },
  "language_info": {
   "codemirror_mode": {
    "name": "ipython",
    "version": 3
   },
   "file_extension": ".py",
   "mimetype": "text/x-python",
   "name": "python",
   "nbconvert_exporter": "python",
   "pygments_lexer": "ipython3",
   "version": "3.9.12"
  }
 },
 "nbformat": 4,
 "nbformat_minor": 5
}
