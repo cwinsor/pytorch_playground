{
 "cells": [
  {
   "cell_type": "markdown",
   "id": "06956b40",
   "metadata": {},
   "source": [
    "# from pluralsight"
   ]
  },
  {
   "cell_type": "code",
   "execution_count": 1,
   "id": "96ba831a",
   "metadata": {},
   "outputs": [
    {
     "name": "stdout",
     "output_type": "stream",
     "text": [
      "1.13.0\n"
     ]
    }
   ],
   "source": [
    "import torch\n",
    "print(torch.__version__)"
   ]
  },
  {
   "cell_type": "code",
   "execution_count": 2,
   "id": "d94d4dda",
   "metadata": {},
   "outputs": [
    {
     "data": {
      "text/plain": [
       "tensor([[1., 2.],\n",
       "        [4., 5.]])"
      ]
     },
     "execution_count": 2,
     "metadata": {},
     "output_type": "execute_result"
    }
   ],
   "source": [
    "tensor_array = torch.Tensor([[1,2],[4,5]])\n",
    "tensor_array\n"
   ]
  },
  {
   "cell_type": "code",
   "execution_count": 3,
   "id": "0b19cc52",
   "metadata": {},
   "outputs": [],
   "source": [
    "tensor_uninitialized = torch.Tensor(3,3)"
   ]
  },
  {
   "cell_type": "code",
   "execution_count": 4,
   "id": "8f825e98",
   "metadata": {},
   "outputs": [
    {
     "data": {
      "text/plain": [
       "tensor([[0., 0., 0.],\n",
       "        [0., 0., 0.],\n",
       "        [0., 0., 0.]])"
      ]
     },
     "execution_count": 4,
     "metadata": {},
     "output_type": "execute_result"
    }
   ],
   "source": [
    "tensor_uninitialized"
   ]
  },
  {
   "cell_type": "code",
   "execution_count": 7,
   "id": "acad276d",
   "metadata": {},
   "outputs": [
    {
     "data": {
      "text/plain": [
       "9"
      ]
     },
     "execution_count": 7,
     "metadata": {},
     "output_type": "execute_result"
    }
   ],
   "source": [
    "torch.numel(tensor_uninitialized)"
   ]
  },
  {
   "cell_type": "code",
   "execution_count": 8,
   "id": "84cfb04c",
   "metadata": {},
   "outputs": [
    {
     "data": {
      "text/plain": [
       "tensor([[0.0465, 0.9748, 0.3298],\n",
       "        [0.6207, 0.5597, 0.7289]])"
      ]
     },
     "execution_count": 8,
     "metadata": {},
     "output_type": "execute_result"
    }
   ],
   "source": [
    "tensor_initialized = torch.rand(2,3)\n",
    "tensor_initialized"
   ]
  },
  {
   "cell_type": "code",
   "execution_count": 9,
   "id": "f92772dc",
   "metadata": {},
   "outputs": [
    {
     "data": {
      "text/plain": [
       "tensor([[0, 0, 0],\n",
       "        [0, 0, 0]], dtype=torch.int32)"
      ]
     },
     "execution_count": 9,
     "metadata": {},
     "output_type": "execute_result"
    }
   ],
   "source": [
    "tensor_initialized = torch.rand(2,3).type(torch.IntTensor)\n",
    "tensor_initialized"
   ]
  },
  {
   "cell_type": "code",
   "execution_count": 11,
   "id": "6159961c",
   "metadata": {},
   "outputs": [
    {
     "data": {
      "text/plain": [
       "tensor([  0,   9,   1, 251], dtype=torch.uint8)"
      ]
     },
     "execution_count": 11,
     "metadata": {},
     "output_type": "execute_result"
    }
   ],
   "source": [
    "# byte tensor\n",
    "t2 = torch.ByteTensor([0,265,1,-5])\n",
    "t2"
   ]
  },
  {
   "cell_type": "code",
   "execution_count": 12,
   "id": "5c6d5dac",
   "metadata": {},
   "outputs": [
    {
     "data": {
      "text/plain": [
       "tensor([  0, 265,   1,  -5])"
      ]
     },
     "execution_count": 12,
     "metadata": {},
     "output_type": "execute_result"
    }
   ],
   "source": [
    "# long tensor\n",
    "t2 = torch.LongTensor([0,265,1,-5])\n",
    "t2"
   ]
  },
  {
   "cell_type": "code",
   "execution_count": 14,
   "id": "48de3663",
   "metadata": {},
   "outputs": [
    {
     "data": {
      "text/plain": [
       "tensor([[0, 0, 0],\n",
       "        [0, 0, 0]])"
      ]
     },
     "execution_count": 14,
     "metadata": {},
     "output_type": "execute_result"
    }
   ],
   "source": [
    "tensor_initialized = torch.rand(2,3).type(torch.LongTensor)\n",
    "tensor_initialized"
   ]
  },
  {
   "cell_type": "code",
   "execution_count": 16,
   "id": "4270bc6c",
   "metadata": {},
   "outputs": [
    {
     "data": {
      "text/plain": [
       "tensor([1., 1., 1., 1., 1., 1., 1., 1., 1., 1.])"
      ]
     },
     "execution_count": 16,
     "metadata": {},
     "output_type": "execute_result"
    }
   ],
   "source": [
    "t2 = torch.ones(10)\n",
    "t2"
   ]
  },
  {
   "cell_type": "code",
   "execution_count": 17,
   "id": "fb973768",
   "metadata": {},
   "outputs": [
    {
     "data": {
      "text/plain": [
       "tensor([[0., 0., 0., 0., 0.],\n",
       "        [0., 0., 0., 0., 0.],\n",
       "        [0., 0., 0., 0., 0.],\n",
       "        [0., 0., 0., 0., 0.],\n",
       "        [0., 0., 0., 0., 0.]])"
      ]
     },
     "execution_count": 17,
     "metadata": {},
     "output_type": "execute_result"
    }
   ],
   "source": [
    "t2 = torch.zeros(5,5)\n",
    "t2"
   ]
  },
  {
   "cell_type": "code",
   "execution_count": 18,
   "id": "51c0b308",
   "metadata": {},
   "outputs": [
    {
     "data": {
      "text/plain": [
       "tensor([[1., 0., 0., 0., 0.],\n",
       "        [0., 1., 0., 0., 0.],\n",
       "        [0., 0., 1., 0., 0.],\n",
       "        [0., 0., 0., 1., 0.],\n",
       "        [0., 0., 0., 0., 1.]])"
      ]
     },
     "execution_count": 18,
     "metadata": {},
     "output_type": "execute_result"
    }
   ],
   "source": [
    "t2 = torch.eye(5)\n",
    "t2\n"
   ]
  },
  {
   "cell_type": "code",
   "execution_count": 19,
   "id": "e0e6fee4",
   "metadata": {},
   "outputs": [
    {
     "data": {
      "text/plain": [
       "tensor([[4., 3., 3., 3., 3.],\n",
       "        [3., 4., 3., 3., 3.],\n",
       "        [3., 3., 4., 3., 3.],\n",
       "        [3., 3., 3., 4., 3.],\n",
       "        [3., 3., 3., 3., 4.]])"
      ]
     },
     "execution_count": 19,
     "metadata": {},
     "output_type": "execute_result"
    }
   ],
   "source": [
    "t2 = t2.add(3)\n",
    "t2"
   ]
  },
  {
   "cell_type": "code",
   "execution_count": 20,
   "id": "54b6d67f",
   "metadata": {},
   "outputs": [
    {
     "data": {
      "text/plain": [
       "tensor([[5., 4., 4., 4., 4.],\n",
       "        [4., 5., 4., 4., 4.],\n",
       "        [4., 4., 5., 4., 4.],\n",
       "        [4., 4., 4., 5., 4.],\n",
       "        [4., 4., 4., 4., 5.]])"
      ]
     },
     "execution_count": 20,
     "metadata": {},
     "output_type": "execute_result"
    }
   ],
   "source": [
    "t2.add_(1)\n",
    "t2"
   ]
  },
  {
   "cell_type": "code",
   "execution_count": 21,
   "id": "110f493e",
   "metadata": {},
   "outputs": [],
   "source": [
    "import numpy as np"
   ]
  },
  {
   "cell_type": "code",
   "execution_count": 23,
   "id": "a8540c98",
   "metadata": {},
   "outputs": [
    {
     "data": {
      "text/plain": [
       "array([1, 2, 3])"
      ]
     },
     "execution_count": 23,
     "metadata": {},
     "output_type": "execute_result"
    }
   ],
   "source": [
    "np2 = np.array([1,2,3])\n",
    "np2"
   ]
  },
  {
   "cell_type": "code",
   "execution_count": 25,
   "id": "0dac2139",
   "metadata": {},
   "outputs": [
    {
     "data": {
      "text/plain": [
       "tensor([1, 2, 3], dtype=torch.int32)"
      ]
     },
     "execution_count": 25,
     "metadata": {},
     "output_type": "execute_result"
    }
   ],
   "source": [
    "t2 = torch.from_numpy(np2)\n",
    "t2"
   ]
  },
  {
   "cell_type": "code",
   "execution_count": 26,
   "id": "1e5398a1",
   "metadata": {},
   "outputs": [
    {
     "data": {
      "text/plain": [
       "array([ 1, 44,  3])"
      ]
     },
     "execution_count": 26,
     "metadata": {},
     "output_type": "execute_result"
    }
   ],
   "source": [
    "np2[1]=44\n",
    "np2"
   ]
  },
  {
   "cell_type": "code",
   "execution_count": 27,
   "id": "2b43ff9e",
   "metadata": {},
   "outputs": [
    {
     "data": {
      "text/plain": [
       "tensor([ 1, 44,  3], dtype=torch.int32)"
      ]
     },
     "execution_count": 27,
     "metadata": {},
     "output_type": "execute_result"
    }
   ],
   "source": [
    "t2"
   ]
  },
  {
   "cell_type": "code",
   "execution_count": 28,
   "id": "ee4a1978",
   "metadata": {},
   "outputs": [
    {
     "data": {
      "text/plain": [
       "tensor([ 1, 44, 55], dtype=torch.int32)"
      ]
     },
     "execution_count": 28,
     "metadata": {},
     "output_type": "execute_result"
    }
   ],
   "source": [
    "t2[2]=55\n",
    "t2"
   ]
  },
  {
   "cell_type": "code",
   "execution_count": 29,
   "id": "e5d9fd93",
   "metadata": {},
   "outputs": [
    {
     "data": {
      "text/plain": [
       "array([ 1, 44, 55])"
      ]
     },
     "execution_count": 29,
     "metadata": {},
     "output_type": "execute_result"
    }
   ],
   "source": [
    "np2"
   ]
  },
  {
   "cell_type": "code",
   "execution_count": 35,
   "id": "5296acd7",
   "metadata": {},
   "outputs": [
    {
     "data": {
      "text/plain": [
       "torch.Size([4, 5])"
      ]
     },
     "execution_count": 35,
     "metadata": {},
     "output_type": "execute_result"
    }
   ],
   "source": [
    "t2=torch.rand(4,5)\n",
    "t2.size()"
   ]
  },
  {
   "cell_type": "code",
   "execution_count": 36,
   "id": "b777406d",
   "metadata": {},
   "outputs": [
    {
     "data": {
      "text/plain": [
       "torch.Size([4, 5])"
      ]
     },
     "execution_count": 36,
     "metadata": {},
     "output_type": "execute_result"
    }
   ],
   "source": [
    "t2.shape"
   ]
  },
  {
   "cell_type": "code",
   "execution_count": 37,
   "id": "ee84d344",
   "metadata": {},
   "outputs": [
    {
     "data": {
      "text/plain": [
       "torch.Size([10, 2])"
      ]
     },
     "execution_count": 37,
     "metadata": {},
     "output_type": "execute_result"
    }
   ],
   "source": [
    "t3 = t2.view(-1,2)\n",
    "t3.shape"
   ]
  },
  {
   "cell_type": "code",
   "execution_count": 43,
   "id": "2e0cd3bc",
   "metadata": {},
   "outputs": [
    {
     "data": {
      "text/plain": [
       "tensor([[0.0219, 0.3668],\n",
       "        [0.7708, 0.9240],\n",
       "        [0.6679, 0.9013],\n",
       "        [0.8247, 0.6041],\n",
       "        [0.9838, 0.4643],\n",
       "        [0.3900, 0.8857],\n",
       "        [0.0238, 0.4190],\n",
       "        [0.3778, 0.0327],\n",
       "        [0.2535, 0.0408],\n",
       "        [0.7116, 0.1722]])"
      ]
     },
     "execution_count": 43,
     "metadata": {},
     "output_type": "execute_result"
    }
   ],
   "source": [
    "t3"
   ]
  },
  {
   "cell_type": "code",
   "execution_count": 44,
   "id": "601adf21",
   "metadata": {},
   "outputs": [],
   "source": [
    "sorted_tensor, sorted_indices = torch.sort(t3, dim=0)"
   ]
  },
  {
   "cell_type": "code",
   "execution_count": 45,
   "id": "2fe2cdaf",
   "metadata": {},
   "outputs": [
    {
     "data": {
      "text/plain": [
       "tensor([[0.0219, 0.0327],\n",
       "        [0.0238, 0.0408],\n",
       "        [0.2535, 0.1722],\n",
       "        [0.3778, 0.3668],\n",
       "        [0.3900, 0.4190],\n",
       "        [0.6679, 0.4643],\n",
       "        [0.7116, 0.6041],\n",
       "        [0.7708, 0.8857],\n",
       "        [0.8247, 0.9013],\n",
       "        [0.9838, 0.9240]])"
      ]
     },
     "execution_count": 45,
     "metadata": {},
     "output_type": "execute_result"
    }
   ],
   "source": [
    "sorted_tensor"
   ]
  },
  {
   "cell_type": "code",
   "execution_count": null,
   "id": "00e23c62",
   "metadata": {},
   "outputs": [],
   "source": []
  }
 ],
 "metadata": {
  "kernelspec": {
   "display_name": "Python 3 (ipykernel)",
   "language": "python",
   "name": "python3"
  },
  "language_info": {
   "codemirror_mode": {
    "name": "ipython",
    "version": 3
   },
   "file_extension": ".py",
   "mimetype": "text/x-python",
   "name": "python",
   "nbconvert_exporter": "python",
   "pygments_lexer": "ipython3",
   "version": "3.9.12"
  }
 },
 "nbformat": 4,
 "nbformat_minor": 5
}
