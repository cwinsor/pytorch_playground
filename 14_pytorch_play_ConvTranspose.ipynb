{
 "cells": [
  {
   "cell_type": "markdown",
   "id": "b4f1344c",
   "metadata": {},
   "source": [
    "# ConvTranspose2D\n",
    "Used for generative model (inverse of diagnostic)\n",
    "\n",
    "code from:\n",
    "https://pytorch.org/docs/stable/generated/torch.nn.ConvTranspose2d.html#torch.nn.ConvTranspose2d"
   ]
  },
  {
   "cell_type": "code",
   "execution_count": 1,
   "id": "a2ebf077",
   "metadata": {},
   "outputs": [],
   "source": [
    "import torch\n",
    "import torchvision\n",
    "from torch import nn\n",
    "from torch.autograd import Variable\n",
    "from torch.utils.data import DataLoader\n",
    "from torchvision import transforms\n",
    "from torchvision.utils import save_image\n",
    "from torchvision.datasets import MNIST\n",
    "import os"
   ]
  },
  {
   "cell_type": "code",
   "execution_count": 2,
   "id": "1a817e23",
   "metadata": {},
   "outputs": [],
   "source": [
    "from torchinfo import summary"
   ]
  },
  {
   "cell_type": "code",
   "execution_count": null,
   "id": "f7c558fe",
   "metadata": {},
   "outputs": [],
   "source": [
    "# >>> # With square kernels and equal stride\n",
    "# >>> m = nn.ConvTranspose2d(16, 33, 3, stride=2)\n",
    "# >>> # non-square kernels and unequal stride and with padding\n",
    "# >>> m = nn.ConvTranspose2d(16, 33, (3, 5), stride=(2, 1), padding=(4, 2))\n",
    "# >>> input = torch.randn(20, 16, 50, 100)\n",
    "# >>> output = m(input)\n",
    "# >>> # exact output size can be also specified as an argument\n",
    "# >>> input = torch.randn(1, 16, 12, 12)\n",
    "# >>> downsample = nn.Conv2d(16, 16, 3, stride=2, padding=1)\n",
    "# >>> upsample = nn.ConvTranspose2d(16, 16, 3, stride=2, padding=1)\n",
    "# >>> h = downsample(input)\n",
    "# >>> h.size()\n",
    "# torch.Size([1, 16, 6, 6])\n",
    "# >>> output = upsample(h, output_size=input.size())\n",
    "# >>> output.size()\n",
    "# torch.Size([1, 16, 12, 12])"
   ]
  },
  {
   "cell_type": "code",
   "execution_count": 27,
   "id": "01d125b9",
   "metadata": {},
   "outputs": [
    {
     "data": {
      "text/plain": [
       "==========================================================================================\n",
       "Layer (type:depth-idx)                   Output Shape              Param #\n",
       "==========================================================================================\n",
       "ConvTranspose2d                          [1, 16, 4, 4]             1,168\n",
       "==========================================================================================\n",
       "Total params: 1,168\n",
       "Trainable params: 1,168\n",
       "Non-trainable params: 0\n",
       "Total mult-adds (M): 0.02\n",
       "==========================================================================================\n",
       "Input size (MB): 0.00\n",
       "Forward/backward pass size (MB): 0.00\n",
       "Params size (MB): 0.00\n",
       "Estimated Total Size (MB): 0.01\n",
       "=========================================================================================="
      ]
     },
     "execution_count": 27,
     "metadata": {},
     "output_type": "execute_result"
    }
   ],
   "source": [
    "input_sz = (1,8,2,2)\n",
    "m = nn.ConvTranspose2d(8, 16, 3, stride=1)\n",
    "summary(m, input_size=input_sz)"
   ]
  },
  {
   "cell_type": "code",
   "execution_count": 28,
   "id": "69b21a6f",
   "metadata": {},
   "outputs": [
    {
     "data": {
      "text/plain": [
       "==========================================================================================\n",
       "Layer (type:depth-idx)                   Output Shape              Param #\n",
       "==========================================================================================\n",
       "ConvTranspose2d                          [1, 8, 8, 8]              3,208\n",
       "==========================================================================================\n",
       "Total params: 3,208\n",
       "Trainable params: 3,208\n",
       "Non-trainable params: 0\n",
       "Total mult-adds (M): 0.21\n",
       "==========================================================================================\n",
       "Input size (MB): 0.00\n",
       "Forward/backward pass size (MB): 0.00\n",
       "Params size (MB): 0.01\n",
       "Estimated Total Size (MB): 0.02\n",
       "=========================================================================================="
      ]
     },
     "execution_count": 28,
     "metadata": {},
     "output_type": "execute_result"
    }
   ],
   "source": [
    "input_sz = (1,16,4,4)\n",
    "m = nn.ConvTranspose2d(16, 8, 5, stride=1)\n",
    "summary(m, input_size=input_sz)"
   ]
  },
  {
   "cell_type": "code",
   "execution_count": 29,
   "id": "d2560838",
   "metadata": {},
   "outputs": [
    {
     "data": {
      "text/plain": [
       "==========================================================================================\n",
       "Layer (type:depth-idx)                   Output Shape              Param #\n",
       "==========================================================================================\n",
       "ConvTranspose2d                          [1, 1, 9, 9]              33\n",
       "==========================================================================================\n",
       "Total params: 33\n",
       "Trainable params: 33\n",
       "Non-trainable params: 0\n",
       "Total mult-adds (M): 0.00\n",
       "==========================================================================================\n",
       "Input size (MB): 0.00\n",
       "Forward/backward pass size (MB): 0.00\n",
       "Params size (MB): 0.00\n",
       "Estimated Total Size (MB): 0.00\n",
       "=========================================================================================="
      ]
     },
     "execution_count": 29,
     "metadata": {},
     "output_type": "execute_result"
    }
   ],
   "source": [
    "input_sz = (1,8,8,8)\n",
    "m = nn.ConvTranspose2d(8, 1, 2, stride=1)\n",
    "summary(m, input_size=input_sz)"
   ]
  },
  {
   "cell_type": "code",
   "execution_count": null,
   "id": "089d9225",
   "metadata": {},
   "outputs": [],
   "source": []
  },
  {
   "cell_type": "code",
   "execution_count": 16,
   "id": "c1c8f2e9",
   "metadata": {},
   "outputs": [
    {
     "data": {
      "text/plain": [
       "==========================================================================================\n",
       "Layer (type:depth-idx)                   Output Shape              Param #\n",
       "==========================================================================================\n",
       "ConvTranspose2d                          [1, 33, 51, 100]          561\n",
       "==========================================================================================\n",
       "Total params: 561\n",
       "Trainable params: 561\n",
       "Non-trainable params: 0\n",
       "Total mult-adds (M): 2.86\n",
       "==========================================================================================\n",
       "Input size (MB): 0.33\n",
       "Forward/backward pass size (MB): 1.35\n",
       "Params size (MB): 0.00\n",
       "Estimated Total Size (MB): 1.68\n",
       "=========================================================================================="
      ]
     },
     "execution_count": 16,
     "metadata": {},
     "output_type": "execute_result"
    }
   ],
   "source": [
    "# With square kernels and equal stride\n",
    "m = nn.ConvTranspose2d(16, 33, 1, stride=1)\n",
    "summary(m, input_size=(1, 16, 51, 100))"
   ]
  },
  {
   "cell_type": "code",
   "execution_count": 3,
   "id": "dd4d1997",
   "metadata": {},
   "outputs": [],
   "source": [
    "# model - non-square kernels and unequal stride and with padding\n",
    "m = nn.ConvTranspose2d(16, 33, (3, 5), stride=(2, 1), padding=(4, 2))"
   ]
  },
  {
   "cell_type": "code",
   "execution_count": 4,
   "id": "cab10e95",
   "metadata": {},
   "outputs": [
    {
     "name": "stdout",
     "output_type": "stream",
     "text": [
      "ConvTranspose2d(16, 33, kernel_size=(3, 5), stride=(2, 1), padding=(4, 2))\n"
     ]
    }
   ],
   "source": [
    "print(m)"
   ]
  },
  {
   "cell_type": "code",
   "execution_count": 5,
   "id": "abf192d3",
   "metadata": {},
   "outputs": [
    {
     "data": {
      "text/plain": [
       "==========================================================================================\n",
       "Layer (type:depth-idx)                   Output Shape              Param #\n",
       "==========================================================================================\n",
       "ConvTranspose2d                          [20, 33, 93, 100]         7,953\n",
       "==========================================================================================\n",
       "Total params: 7,953\n",
       "Trainable params: 7,953\n",
       "Non-trainable params: 0\n",
       "Total mult-adds (G): 1.48\n",
       "==========================================================================================\n",
       "Input size (MB): 6.40\n",
       "Forward/backward pass size (MB): 49.10\n",
       "Params size (MB): 0.03\n",
       "Estimated Total Size (MB): 55.54\n",
       "=========================================================================================="
      ]
     },
     "execution_count": 5,
     "metadata": {},
     "output_type": "execute_result"
    }
   ],
   "source": [
    "summary(m, input_size=(20, 16, 50, 100))"
   ]
  },
  {
   "cell_type": "code",
   "execution_count": null,
   "id": "0448c2b6",
   "metadata": {},
   "outputs": [],
   "source": []
  }
 ],
 "metadata": {
  "kernelspec": {
   "display_name": "Python 3 (ipykernel)",
   "language": "python",
   "name": "python3"
  },
  "language_info": {
   "codemirror_mode": {
    "name": "ipython",
    "version": 3
   },
   "file_extension": ".py",
   "mimetype": "text/x-python",
   "name": "python",
   "nbconvert_exporter": "python",
   "pygments_lexer": "ipython3",
   "version": "3.9.12"
  }
 },
 "nbformat": 4,
 "nbformat_minor": 5
}
