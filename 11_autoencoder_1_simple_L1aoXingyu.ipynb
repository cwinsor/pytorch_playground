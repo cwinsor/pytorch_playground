{
 "cells": [
  {
   "cell_type": "markdown",
   "id": "c0ef966d",
   "metadata": {},
   "source": [
    "# Autoencoder Simple\n",
    "from https://github.com/L1aoXingyu/pytorch-beginner/blob/master/08-AutoEncoder/simple_autoencoder.py"
   ]
  },
  {
   "cell_type": "code",
   "execution_count": 1,
   "id": "4ab8d18f",
   "metadata": {},
   "outputs": [],
   "source": [
    "import os\n",
    "\n",
    "import torch\n",
    "import torchvision\n",
    "from torch import nn\n",
    "from torch.autograd import Variable\n",
    "from torch.utils.data import DataLoader\n",
    "from torchvision import transforms\n",
    "from torchvision.datasets import MNIST\n",
    "from torchvision.utils import save_image"
   ]
  },
  {
   "cell_type": "code",
   "execution_count": 2,
   "id": "29edd9ff",
   "metadata": {},
   "outputs": [],
   "source": [
    "if not os.path.exists('./mlp_img'):\n",
    "    os.mkdir('./mlp_img')"
   ]
  },
  {
   "cell_type": "code",
   "execution_count": 3,
   "id": "b6e043cf",
   "metadata": {},
   "outputs": [],
   "source": [
    "def to_img(x):\n",
    "    x = 0.5 * (x + 1)\n",
    "    x = x.clamp(0, 1)\n",
    "    x = x.view(x.size(0), 1, 28, 28)\n",
    "    return x"
   ]
  },
  {
   "cell_type": "code",
   "execution_count": 4,
   "id": "2a78b21c",
   "metadata": {},
   "outputs": [],
   "source": [
    "num_epochs = 100\n",
    "batch_size = 128\n",
    "learning_rate = 1e-3"
   ]
  },
  {
   "cell_type": "code",
   "execution_count": 5,
   "id": "97371e7f",
   "metadata": {},
   "outputs": [],
   "source": [
    "img_transform = transforms.Compose([\n",
    "    transforms.ToTensor(),\n",
    "    transforms.Normalize([0.5], [0.5])\n",
    "])"
   ]
  },
  {
   "cell_type": "code",
   "execution_count": 10,
   "id": "56105564",
   "metadata": {},
   "outputs": [],
   "source": [
    "# dataset = MNIST('./data', transform=img_transform)\n",
    "# dataset = MNIST('D:/datasets_pytorch/MNIST30', download=True, transform=img_transform)\n",
    "dataset = MNIST('D:/datasets_pytorch/MNIST30', transform=img_transform)\n",
    "dataloader = DataLoader(dataset, batch_size=batch_size, shuffle=True)"
   ]
  },
  {
   "cell_type": "code",
   "execution_count": 26,
   "id": "1b122247",
   "metadata": {},
   "outputs": [],
   "source": [
    "class autoencoder(nn.Module):\n",
    "    def __init__(self):\n",
    "        super(autoencoder, self).__init__()\n",
    "        self.encoder = nn.Sequential(\n",
    "            nn.Linear(28 * 28, 128),\n",
    "            nn.ReLU(True),\n",
    "            nn.Linear(128, 64),\n",
    "            nn.ReLU(True), nn.Linear(64, 12), nn.ReLU(True), nn.Linear(12, 4))\n",
    "        self.decoder = nn.Sequential(\n",
    "            nn.Linear(4, 12),\n",
    "            nn.ReLU(True),\n",
    "            nn.Linear(12, 64),\n",
    "            nn.ReLU(True),\n",
    "            nn.Linear(64, 128),\n",
    "            nn.ReLU(True), nn.Linear(128, 28 * 28), nn.Tanh())\n",
    "\n",
    "    def forward(self, x):\n",
    "        x = self.encoder(x)\n",
    "        x = self.decoder(x)\n",
    "        return x"
   ]
  },
  {
   "cell_type": "code",
   "execution_count": 29,
   "id": "c39440af",
   "metadata": {},
   "outputs": [
    {
     "name": "stdout",
     "output_type": "stream",
     "text": [
      "autoencoder(\n",
      "  (encoder): Sequential(\n",
      "    (0): Linear(in_features=784, out_features=128, bias=True)\n",
      "    (1): ReLU(inplace=True)\n",
      "    (2): Linear(in_features=128, out_features=64, bias=True)\n",
      "    (3): ReLU(inplace=True)\n",
      "    (4): Linear(in_features=64, out_features=12, bias=True)\n",
      "    (5): ReLU(inplace=True)\n",
      "    (6): Linear(in_features=12, out_features=4, bias=True)\n",
      "  )\n",
      "  (decoder): Sequential(\n",
      "    (0): Linear(in_features=4, out_features=12, bias=True)\n",
      "    (1): ReLU(inplace=True)\n",
      "    (2): Linear(in_features=12, out_features=64, bias=True)\n",
      "    (3): ReLU(inplace=True)\n",
      "    (4): Linear(in_features=64, out_features=128, bias=True)\n",
      "    (5): ReLU(inplace=True)\n",
      "    (6): Linear(in_features=128, out_features=784, bias=True)\n",
      "    (7): Tanh()\n",
      "  )\n",
      ")\n"
     ]
    }
   ],
   "source": [
    "model = autoencoder().cuda()\n",
    "criterion = nn.MSELoss()\n",
    "optimizer = torch.optim.Adam(\n",
    "    model.parameters(), lr=learning_rate, weight_decay=1e-5)\n",
    "print(model)"
   ]
  },
  {
   "cell_type": "code",
   "execution_count": 28,
   "id": "049941d5",
   "metadata": {},
   "outputs": [
    {
     "name": "stdout",
     "output_type": "stream",
     "text": [
      "epoch [1/100], loss:0.2129\n",
      "epoch [2/100], loss:0.1647\n",
      "epoch [3/100], loss:0.1581\n",
      "epoch [4/100], loss:0.1367\n",
      "epoch [5/100], loss:0.1391\n",
      "epoch [6/100], loss:0.1369\n",
      "epoch [7/100], loss:0.1133\n",
      "epoch [8/100], loss:0.1351\n",
      "epoch [9/100], loss:0.1263\n",
      "epoch [10/100], loss:0.1258\n",
      "epoch [11/100], loss:0.1424\n",
      "epoch [12/100], loss:0.1342\n",
      "epoch [13/100], loss:0.1143\n",
      "epoch [14/100], loss:0.1344\n",
      "epoch [15/100], loss:0.1121\n",
      "epoch [16/100], loss:0.1328\n",
      "epoch [17/100], loss:0.1173\n",
      "epoch [18/100], loss:0.1187\n",
      "epoch [19/100], loss:0.1184\n",
      "epoch [20/100], loss:0.1248\n",
      "epoch [21/100], loss:0.1185\n",
      "epoch [22/100], loss:0.1190\n",
      "epoch [23/100], loss:0.1022\n",
      "epoch [24/100], loss:0.1189\n",
      "epoch [25/100], loss:0.1180\n",
      "epoch [26/100], loss:0.1102\n",
      "epoch [27/100], loss:0.1139\n",
      "epoch [28/100], loss:0.1085\n",
      "epoch [29/100], loss:0.1095\n",
      "epoch [30/100], loss:0.1196\n",
      "epoch [31/100], loss:0.1125\n",
      "epoch [32/100], loss:0.1221\n",
      "epoch [33/100], loss:0.1155\n",
      "epoch [34/100], loss:0.1145\n",
      "epoch [35/100], loss:0.1115\n",
      "epoch [36/100], loss:0.1087\n",
      "epoch [37/100], loss:0.1068\n",
      "epoch [38/100], loss:0.1177\n",
      "epoch [39/100], loss:0.1217\n",
      "epoch [40/100], loss:0.1125\n",
      "epoch [41/100], loss:0.1175\n",
      "epoch [42/100], loss:0.1152\n",
      "epoch [43/100], loss:0.1187\n",
      "epoch [44/100], loss:0.0974\n",
      "epoch [45/100], loss:0.1180\n",
      "epoch [46/100], loss:0.1176\n",
      "epoch [47/100], loss:0.1059\n",
      "epoch [48/100], loss:0.1185\n",
      "epoch [49/100], loss:0.1147\n",
      "epoch [50/100], loss:0.1018\n",
      "epoch [51/100], loss:0.1164\n",
      "epoch [52/100], loss:0.1095\n",
      "epoch [53/100], loss:0.1082\n",
      "epoch [54/100], loss:0.1255\n",
      "epoch [55/100], loss:0.1112\n",
      "epoch [56/100], loss:0.1139\n",
      "epoch [57/100], loss:0.1074\n",
      "epoch [58/100], loss:0.1184\n",
      "epoch [59/100], loss:0.1058\n",
      "epoch [60/100], loss:0.1054\n",
      "epoch [61/100], loss:0.1173\n",
      "epoch [62/100], loss:0.1061\n",
      "epoch [63/100], loss:0.1023\n",
      "epoch [64/100], loss:0.1145\n",
      "epoch [65/100], loss:0.1072\n",
      "epoch [66/100], loss:0.0993\n",
      "epoch [67/100], loss:0.0987\n",
      "epoch [68/100], loss:0.1034\n",
      "epoch [69/100], loss:0.1007\n",
      "epoch [70/100], loss:0.1072\n",
      "epoch [71/100], loss:0.1117\n",
      "epoch [72/100], loss:0.0975\n",
      "epoch [73/100], loss:0.1078\n",
      "epoch [74/100], loss:0.1167\n",
      "epoch [75/100], loss:0.1041\n",
      "epoch [76/100], loss:0.1024\n",
      "epoch [77/100], loss:0.1018\n",
      "epoch [78/100], loss:0.0970\n",
      "epoch [79/100], loss:0.1069\n",
      "epoch [80/100], loss:0.0987\n",
      "epoch [81/100], loss:0.1111\n",
      "epoch [82/100], loss:0.1116\n",
      "epoch [83/100], loss:0.1096\n",
      "epoch [84/100], loss:0.1193\n",
      "epoch [85/100], loss:0.1188\n",
      "epoch [86/100], loss:0.1018\n",
      "epoch [87/100], loss:0.1109\n",
      "epoch [88/100], loss:0.1152\n",
      "epoch [89/100], loss:0.1005\n",
      "epoch [90/100], loss:0.1053\n",
      "epoch [91/100], loss:0.1047\n",
      "epoch [92/100], loss:0.1055\n",
      "epoch [93/100], loss:0.1205\n",
      "epoch [94/100], loss:0.1043\n",
      "epoch [95/100], loss:0.0946\n",
      "epoch [96/100], loss:0.1166\n",
      "epoch [97/100], loss:0.1152\n",
      "epoch [98/100], loss:0.1077\n",
      "epoch [99/100], loss:0.1088\n",
      "epoch [100/100], loss:0.1064\n"
     ]
    }
   ],
   "source": [
    "for epoch in range(num_epochs):\n",
    "    for data in dataloader:\n",
    "        img, _ = data\n",
    "        img = img.view(img.size(0), -1)\n",
    "        img = Variable(img).cuda()\n",
    "        # ===================forward=====================\n",
    "        output = model(img)\n",
    "        loss = criterion(output, img)\n",
    "        # ===================backward====================\n",
    "        optimizer.zero_grad()\n",
    "        loss.backward()\n",
    "        optimizer.step()\n",
    "    # ===================log========================\n",
    "#     print(\"type {}\".format(type(loss.data)))\n",
    "#     print(\"size {}\".format(loss.data.size()))\n",
    "    print('epoch [{}/{}], loss:{:.4f}'\n",
    "          .format(epoch + 1, num_epochs, loss.data))\n",
    "    \n",
    "#     print('epoch [{}/{}], loss:{:.4f}'\n",
    "#           .format(epoch + 1, num_epochs, loss.data[0]))\n",
    "    if epoch % 10 == 0:\n",
    "        pic = to_img(output.cpu().data)\n",
    "        save_image(pic, './mlp_img/image_{}.png'.format(epoch))\n",
    "\n",
    "torch.save(model.state_dict(), './sim_autoencoder.pth')"
   ]
  },
  {
   "cell_type": "code",
   "execution_count": null,
   "id": "397470a4",
   "metadata": {},
   "outputs": [],
   "source": []
  }
 ],
 "metadata": {
  "kernelspec": {
   "display_name": "Python 3 (ipykernel)",
   "language": "python",
   "name": "python3"
  },
  "language_info": {
   "codemirror_mode": {
    "name": "ipython",
    "version": 3
   },
   "file_extension": ".py",
   "mimetype": "text/x-python",
   "name": "python",
   "nbconvert_exporter": "python",
   "pygments_lexer": "ipython3",
   "version": "3.9.12"
  }
 },
 "nbformat": 4,
 "nbformat_minor": 5
}
